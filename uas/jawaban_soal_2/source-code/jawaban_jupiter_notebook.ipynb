{
 "cells": [
  {
   "cell_type": "markdown",
   "metadata": {},
   "source": [
    "## Contoh kode untuk exception handling dalam Python:"
   ]
  },
  {
   "cell_type": "code",
   "execution_count": 1,
   "metadata": {},
   "outputs": [
    {
     "name": "stdout",
     "output_type": "stream",
     "text": [
      "Pembagian berhasil.\n",
      "Proses pembagian selesai.\n",
      "5.0\n",
      "Error: Tidak bisa membagi dengan nol.\n",
      "Proses pembagian selesai.\n",
      "None\n",
      "Error: Tipe data tidak sesuai. Pastikan kedua argumen adalah angka.\n",
      "Proses pembagian selesai.\n",
      "None\n"
     ]
    }
   ],
   "source": [
    "def divide_numbers(a, b):\n",
    "    try:\n",
    "        result = a / b\n",
    "    except ZeroDivisionError:\n",
    "        print(\"Error: Tidak bisa membagi dengan nol.\")\n",
    "        result = None\n",
    "    except TypeError:\n",
    "        print(\"Error: Tipe data tidak sesuai. Pastikan kedua argumen adalah angka.\")\n",
    "        result = None\n",
    "    else:\n",
    "        print(\"Pembagian berhasil.\")\n",
    "    finally:\n",
    "        print(\"Proses pembagian selesai.\")\n",
    "    return result\n",
    "\n",
    "# Contoh penggunaan\n",
    "print(divide_numbers(10, 2))   # Output: Pembagian berhasil. \\n Proses pembagian selesai. \\n 5.0\n",
    "print(divide_numbers(10, 0))   # Output: Error: Tidak bisa membagi dengan nol. \\n Proses pembagian selesai. \\n None\n",
    "print(divide_numbers(10, 'a')) # Output: Error: Tipe data tidak sesuai. Pastikan kedua argumen adalah angka. \\n Proses pembagian selesai. \\n None\n"
   ]
  }
 ],
 "metadata": {
  "kernelspec": {
   "display_name": "Python 3",
   "language": "python",
   "name": "python3"
  },
  "language_info": {
   "codemirror_mode": {
    "name": "ipython",
    "version": 3
   },
   "file_extension": ".py",
   "mimetype": "text/x-python",
   "name": "python",
   "nbconvert_exporter": "python",
   "pygments_lexer": "ipython3",
   "version": "3.10.12"
  }
 },
 "nbformat": 4,
 "nbformat_minor": 2
}
