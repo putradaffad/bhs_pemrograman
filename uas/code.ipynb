{
 "cells": [
  {
   "cell_type": "markdown",
   "metadata": {},
   "source": [
    "## CONTOH FUNCTION"
   ]
  },
  {
   "cell_type": "code",
   "execution_count": null,
   "metadata": {},
   "outputs": [],
   "source": [
    "def greet(name):\n",
    "    \"\"\"Function untuk menyapa seseorang.\"\"\"\n",
    "    return f\"Hello, {name}!\"\n",
    "\n",
    "# Memanggil function\n",
    "print(greet(\"Alice\"))\n",
    "print(greet(\"Bob\"))\n"
   ]
  },
  {
   "cell_type": "markdown",
   "metadata": {},
   "source": [
    "## CONTOH RECURSIVE"
   ]
  },
  {
   "cell_type": "code",
   "execution_count": null,
   "metadata": {},
   "outputs": [],
   "source": [
    "def factorial(n):\n",
    "    \"\"\"Function untuk menghitung faktorial dari n menggunakan rekursi.\"\"\"\n",
    "    if n == 0:\n",
    "        return 1\n",
    "    else:\n",
    "        return n * factorial(n - 1)\n",
    "\n",
    "# Memanggil function rekursif\n",
    "print(factorial(5))  # Output: 120\n",
    "print(factorial(7))  # Output: 5040\n"
   ]
  }
 ],
 "metadata": {
  "language_info": {
   "name": "python"
  }
 },
 "nbformat": 4,
 "nbformat_minor": 2
}
