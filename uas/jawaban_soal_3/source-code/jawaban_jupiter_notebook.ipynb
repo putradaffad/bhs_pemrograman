{
 "cells": [
  {
   "cell_type": "code",
   "execution_count": null,
   "metadata": {},
   "outputs": [],
   "source": [
    "import tkinter as tk\n",
    "from tkinter import messagebox\n",
    "\n",
    "def on_button_click():\n",
    "    messagebox.showinfo(\"Pesan\", \"Tombol ditekan!\")\n",
    "\n",
    "# Membuat instance dari Tkinter\n",
    "root = tk.Tk()\n",
    "root.title(\"Contoh GUI dengan Tkinter\")\n",
    "\n",
    "# Mengatur ukuran window\n",
    "root.geometry(\"300x200\")\n",
    "\n",
    "# Membuat label\n",
    "label = tk.Label(root, text=\"Halo, ini adalah contoh GUI!\")\n",
    "label.pack(pady=20)\n",
    "\n",
    "# Membuat tombol\n",
    "button = tk.Button(root, text=\"Klik Saya\", command=on_button_click)\n",
    "button.pack(pady=10)\n",
    "\n",
    "# Menjalankan aplikasi\n",
    "root.mainloop()\n"
   ]
  }
 ],
 "metadata": {
  "kernelspec": {
   "display_name": "Python 3",
   "language": "python",
   "name": "python3"
  },
  "language_info": {
   "codemirror_mode": {
    "name": "ipython",
    "version": 3
   },
   "file_extension": ".py",
   "mimetype": "text/x-python",
   "name": "python",
   "nbconvert_exporter": "python",
   "pygments_lexer": "ipython3",
   "version": "3.10.12"
  }
 },
 "nbformat": 4,
 "nbformat_minor": 2
}
