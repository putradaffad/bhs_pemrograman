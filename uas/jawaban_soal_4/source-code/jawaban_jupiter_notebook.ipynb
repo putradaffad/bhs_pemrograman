{
 "cells": [
  {
   "cell_type": "markdown",
   "metadata": {},
   "source": [
    "Berikut adalah contoh aplikasi sederhana yang membuat database SQLite, membuat tabel, menambahkan data, dan mengambil data dari tabel :"
   ]
  },
  {
   "cell_type": "code",
   "execution_count": 1,
   "metadata": {},
   "outputs": [
    {
     "name": "stdout",
     "output_type": "stream",
     "text": [
      "(1, 'Alice', 30)\n",
      "(2, 'Bob', 25)\n"
     ]
    }
   ],
   "source": [
    "import sqlite3\n",
    "\n",
    "# Membuat atau menghubungkan ke database\n",
    "conn = sqlite3.connect('example.db')\n",
    "\n",
    "# Membuat cursor\n",
    "cursor = conn.cursor()\n",
    "\n",
    "# Membuat tabel\n",
    "cursor.execute('''\n",
    "CREATE TABLE IF NOT EXISTS users (\n",
    "    id INTEGER PRIMARY KEY,\n",
    "    name TEXT NOT NULL,\n",
    "    age INTEGER NOT NULL\n",
    ")\n",
    "''')\n",
    "\n",
    "# Menambahkan data ke tabel\n",
    "cursor.execute('''\n",
    "INSERT INTO users (name, age) VALUES (?, ?)\n",
    "''', ('Alice', 30))\n",
    "\n",
    "cursor.execute('''\n",
    "INSERT INTO users (name, age) VALUES (?, ?)\n",
    "''', ('Bob', 25))\n",
    "\n",
    "# Menyimpan (commit) perubahan\n",
    "conn.commit()\n",
    "\n",
    "# Mengambil data dari tabel\n",
    "cursor.execute('SELECT * FROM users')\n",
    "rows = cursor.fetchall()\n",
    "\n",
    "# Menampilkan hasil\n",
    "for row in rows:\n",
    "    print(row)\n",
    "\n",
    "# Menutup koneksi\n",
    "conn.close()\n"
   ]
  },
  {
   "cell_type": "markdown",
   "metadata": {},
   "source": []
  }
 ],
 "metadata": {
  "kernelspec": {
   "display_name": "Python 3",
   "language": "python",
   "name": "python3"
  },
  "language_info": {
   "codemirror_mode": {
    "name": "ipython",
    "version": 3
   },
   "file_extension": ".py",
   "mimetype": "text/x-python",
   "name": "python",
   "nbconvert_exporter": "python",
   "pygments_lexer": "ipython3",
   "version": "3.10.12"
  }
 },
 "nbformat": 4,
 "nbformat_minor": 2
}
